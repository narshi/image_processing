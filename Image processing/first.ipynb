{
 "cells": [
  {
   "cell_type": "markdown",
   "metadata": {},
   "source": [
    "# hello\n",
    "## hello "
   ]
  },
  {
   "cell_type": "code",
   "execution_count": 14,
   "metadata": {},
   "outputs": [],
   "source": [
    "name=\"jhon\""
   ]
  },
  {
   "cell_type": "code",
   "execution_count": 15,
   "metadata": {},
   "outputs": [
    {
     "data": {
      "text/plain": [
       "'jhon'"
      ]
     },
     "execution_count": 15,
     "metadata": {},
     "output_type": "execute_result"
    }
   ],
   "source": [
    "name"
   ]
  },
  {
   "cell_type": "code",
   "execution_count": 12,
   "metadata": {},
   "outputs": [],
   "source": [
    "name=\"shashi\""
   ]
  },
  {
   "cell_type": "code",
   "execution_count": 16,
   "metadata": {},
   "outputs": [
    {
     "name": "stdout",
     "output_type": "stream",
     "text": [
      "Package                            Version                  \n",
      "---------------------------------- -------------------------\n",
      "alabaster                          0.7.11                   \n",
      "anaconda-client                    1.7.2                    \n",
      "anaconda-navigator                 1.8.4                    \n",
      "anaconda-project                   0.8.2                    \n",
      "appdirs                            1.4.3                    \n",
      "asn1crypto                         0.24.0                   \n",
      "astroid                            1.6.5                    \n",
      "astropy                            2.0.8                    \n",
      "atomicwrites                       1.2.1                    \n",
      "attrs                              18.2.0                   \n",
      "Automat                            0.7.0                    \n",
      "Babel                              2.6.0                    \n",
      "backports-abc                      0.5                      \n",
      "backports.functools-lru-cache      1.5                      \n",
      "backports.shutil-get-terminal-size 1.0.0                    \n",
      "backports.shutil-which             3.5.1                    \n",
      "backports.ssl-match-hostname       3.5.0.1                  \n",
      "beautifulsoup4                     4.6.3                    \n",
      "bitarray                           0.8.3                    \n",
      "bkcharts                           0.2                      \n",
      "blaze                              0.11.3                   \n",
      "bleach                             2.1.4                    \n",
      "bokeh                              0.13.0                   \n",
      "boto                               2.49.0                   \n",
      "Bottleneck                         1.2.1                    \n",
      "cdecimal                           2.3                      \n",
      "certifi                            2018.11.29               \n",
      "cffi                               1.11.5                   \n",
      "chardet                            3.0.4                    \n",
      "click                              6.7                      \n",
      "cloudpickle                        0.5.5                    \n",
      "clyent                             1.2.2                    \n",
      "colorama                           0.3.9                    \n",
      "comtypes                           1.1.7                    \n",
      "conda                              4.5.12                   \n",
      "conda-build                        3.15.1                   \n",
      "configparser                       3.5.0                    \n",
      "constantly                         15.1.0                   \n",
      "contextlib2                        0.5.5                    \n",
      "cryptography                       2.4.2                    \n",
      "cycler                             0.10.0                   \n",
      "Cython                             0.28.5                   \n",
      "cytoolz                            0.9.0.1                  \n",
      "dask                               0.19.1                   \n",
      "datashape                          0.5.4                    \n",
      "decorator                          4.3.0                    \n",
      "defusedxml                         0.5.0                    \n",
      "distributed                        1.23.1                   \n",
      "docutils                           0.14                     \n",
      "entrypoints                        0.2.3                    \n",
      "enum34                             1.1.6                    \n",
      "et-xmlfile                         1.0.1                    \n",
      "fastcache                          1.0.2                    \n",
      "filelock                           3.0.8                    \n",
      "Flask                              1.0.2                    \n",
      "Flask-Cors                         3.0.6                    \n",
      "funcsigs                           1.0.2                    \n",
      "functools32                        3.2.3.post2              \n",
      "futures                            3.2.0                    \n",
      "gevent                             1.3.6                    \n",
      "glob2                              0.6                      \n",
      "greenlet                           0.4.15                   \n",
      "grin                               1.2.1                    \n",
      "h5py                               2.8.0                    \n",
      "heapdict                           1.0.0                    \n",
      "html5lib                           1.0.1                    \n",
      "hyperlink                          18.0.0                   \n",
      "idna                               2.7                      \n",
      "imageio                            2.4.1                    \n",
      "imagesize                          1.1.0                    \n",
      "incremental                        17.5.0                   \n",
      "ipaddress                          1.0.22                   \n",
      "ipykernel                          4.10.0                   \n",
      "ipython                            5.8.0                    \n",
      "ipython-genutils                   0.2.0                    \n",
      "ipywidgets                         7.4.1                    \n",
      "isort                              4.3.4                    \n",
      "itsdangerous                       0.24                     \n",
      "jdcal                              1.4                      \n",
      "jedi                               0.12.1                   \n",
      "Jinja2                             2.10                     \n",
      "jsonschema                         2.6.0                    \n",
      "jupyter                            1.0.0                    \n",
      "jupyter-client                     5.2.3                    \n",
      "jupyter-console                    5.2.0                    \n",
      "jupyter-core                       4.4.0                    \n",
      "jupyterlab                         0.33.11                  \n",
      "jupyterlab-launcher                0.11.2                   \n",
      "keyring                            13.2.1                   \n",
      "kiwisolver                         1.0.1                    \n",
      "lazy-object-proxy                  1.3.1                    \n",
      "linecache2                         1.0.0                    \n",
      "llvmlite                           0.24.0                   \n",
      "locket                             0.2.0                    \n",
      "lxml                               4.2.5                    \n",
      "MarkupSafe                         1.0                      \n",
      "matplotlib                         2.2.3                    \n",
      "mccabe                             0.6.1                    \n",
      "menuinst                           1.4.14                   \n",
      "mistune                            0.8.3                    \n",
      "mkl-fft                            1.0.4                    \n",
      "more-itertools                     4.3.0                    \n",
      "mpmath                             1.0.0                    \n",
      "msgpack                            0.5.6                    \n",
      "multipledispatch                   0.6.0                    \n",
      "navigator-updater                  0.2.0                    \n",
      "nbconvert                          5.4.0                    \n",
      "nbformat                           4.4.0                    \n",
      "networkx                           2.1                      \n",
      "nltk                               3.3                      \n",
      "nose                               1.3.7                    \n",
      "notebook                           5.6.0                    \n",
      "numba                              0.39.0+0.g4e4956669.dirty\n",
      "numexpr                            2.6.8                    \n",
      "numpy                              1.15.1                   \n",
      "numpydoc                           0.8.0                    \n",
      "odo                                0.5.1                    \n",
      "olefile                            0.46                     \n",
      "openpyxl                           2.5.6                    \n",
      "packaging                          17.1                     \n",
      "pandas                             0.23.4                   \n",
      "pandocfilters                      1.4.2                    \n",
      "parso                              0.3.1                    \n",
      "partd                              0.3.8                    \n",
      "path.py                            11.1.0                   \n",
      "pathlib2                           2.3.2                    \n",
      "patsy                              0.5.0                    \n",
      "pep8                               1.7.1                    \n",
      "pickleshare                        0.7.4                    \n",
      "Pillow                             3.0.0                    \n",
      "pip                                18.1                     \n",
      "pkginfo                            1.4.2                    \n",
      "pluggy                             0.7.1                    \n",
      "ply                                3.11                     \n",
      "prometheus-client                  0.3.1                    \n",
      "prompt-toolkit                     1.0.15                   \n",
      "psutil                             5.4.7                    \n",
      "py                                 1.6.0                    \n",
      "pyasn1                             0.4.4                    \n",
      "pyasn1-modules                     0.2.2                    \n",
      "pycodestyle                        2.4.0                    \n",
      "pycosat                            0.6.3                    \n",
      "pycparser                          2.18                     \n",
      "pycrypto                           2.6.1                    \n",
      "pycurl                             7.19.0                   \n",
      "pyflakes                           2.0.0                    \n",
      "Pygments                           2.2.0                    \n",
      "pylint                             1.9.2                    \n",
      "pyodbc                             4.0.24                   \n",
      "pyOpenSSL                          18.0.0                   \n",
      "pyparsing                          2.2.0                    \n",
      "PySocks                            1.6.8                    \n",
      "pytest                             3.8.0                    \n",
      "python-dateutil                    2.7.3                    \n",
      "pytz                               2018.5                   \n",
      "PyWavelets                         1.0.0                    \n",
      "pywin32                            223                      \n",
      "pywinpty                           0.5.4                    \n",
      "PyYAML                             3.13                     \n",
      "pyzmq                              17.1.2                   \n",
      "QtAwesome                          0.4.4                    \n",
      "qtconsole                          4.4.1                    \n",
      "QtPy                               1.5.0                    \n",
      "requests                           2.19.1                   \n",
      "rope                               0.11.0                   \n",
      "ruamel-yaml                        0.15.46                  \n",
      "scandir                            1.9.0                    \n",
      "scikit-image                       0.14.0                   \n",
      "scikit-learn                       0.19.2                   \n",
      "scipy                              1.1.0                    \n",
      "seaborn                            0.9.0                    \n",
      "Send2Trash                         1.5.0                    \n",
      "service-identity                   17.0.0                   \n",
      "setuptools                         40.2.0                   \n",
      "simplegeneric                      0.8.1                    \n",
      "singledispatch                     3.4.0.3                  \n",
      "six                                1.11.0                   \n",
      "snowballstemmer                    1.2.1                    \n",
      "sortedcollections                  1.0.1                    \n",
      "sortedcontainers                   2.0.5                    \n",
      "Sphinx                             1.7.9                    \n",
      "sphinxcontrib-websupport           1.1.0                    \n",
      "spyder                             3.2.8                    \n",
      "spyder-kernels                     0.2.6                    \n",
      "SQLAlchemy                         1.2.11                   \n",
      "statsmodels                        0.9.0                    \n",
      "subprocess32                       3.5.2                    \n",
      "sympy                              1.2                      \n",
      "tables                             3.4.4                    \n",
      "tblib                              1.3.2                    \n",
      "terminado                          0.8.1                    \n",
      "testpath                           0.3.1                    \n",
      "toolz                              0.9.0                    \n",
      "tornado                            5.1                      \n",
      "tqdm                               4.26.0                   \n",
      "traceback2                         1.4.0                    \n",
      "traitlets                          4.3.2                    \n",
      "Twisted                            17.5.0                   \n",
      "typing                             3.6.6                    \n",
      "unicodecsv                         0.14.1                   \n",
      "unittest2                          1.1.0                    \n",
      "urllib3                            1.23                     \n",
      "wcwidth                            0.1.7                    \n",
      "webencodings                       0.5.1                    \n",
      "Werkzeug                           0.14.1                   \n",
      "wheel                              0.31.1                   \n",
      "widgetsnbextension                 3.4.1                    \n",
      "win-inet-pton                      1.0.1                    \n",
      "win-unicode-console                0.5                      \n",
      "wincertstore                       0.2                      \n",
      "wrapt                              1.10.11                  \n",
      "xlrd                               1.1.0                    \n",
      "XlsxWriter                         1.1.0                    \n",
      "xlwings                            0.11.8                   \n",
      "xlwt                               1.3.0                    \n",
      "zict                               0.1.3                    \n",
      "zope.interface                     4.5.0                    \n"
     ]
    }
   ],
   "source": [
    "!pip list"
   ]
  },
  {
   "cell_type": "code",
   "execution_count": 17,
   "metadata": {},
   "outputs": [
    {
     "data": {
      "text/plain": [
       "list"
      ]
     },
     "execution_count": 17,
     "metadata": {},
     "output_type": "execute_result"
    }
   ],
   "source": [
    "list\n"
   ]
  },
  {
   "cell_type": "code",
   "execution_count": 19,
   "metadata": {},
   "outputs": [
    {
     "data": {
      "application/json": {
       "cell": {
        "!": "OSMagics",
        "HTML": "Other",
        "SVG": "Other",
        "bash": "Other",
        "capture": "ExecutionMagics",
        "cmd": "Other",
        "debug": "ExecutionMagics",
        "file": "Other",
        "html": "DisplayMagics",
        "javascript": "DisplayMagics",
        "js": "DisplayMagics",
        "latex": "DisplayMagics",
        "perl": "Other",
        "prun": "ExecutionMagics",
        "pypy": "Other",
        "python": "Other",
        "python2": "Other",
        "python3": "Other",
        "ruby": "Other",
        "script": "ScriptMagics",
        "sh": "Other",
        "svg": "DisplayMagics",
        "sx": "OSMagics",
        "system": "OSMagics",
        "time": "ExecutionMagics",
        "timeit": "ExecutionMagics",
        "writefile": "OSMagics"
       },
       "line": {
        "alias": "OSMagics",
        "alias_magic": "BasicMagics",
        "autocall": "AutoMagics",
        "automagic": "AutoMagics",
        "autosave": "KernelMagics",
        "bookmark": "OSMagics",
        "cd": "OSMagics",
        "clear": "KernelMagics",
        "cls": "KernelMagics",
        "colors": "BasicMagics",
        "config": "ConfigMagics",
        "connect_info": "KernelMagics",
        "copy": "Other",
        "ddir": "Other",
        "debug": "ExecutionMagics",
        "dhist": "OSMagics",
        "dirs": "OSMagics",
        "doctest_mode": "BasicMagics",
        "echo": "Other",
        "ed": "Other",
        "edit": "KernelMagics",
        "env": "OSMagics",
        "gui": "BasicMagics",
        "hist": "Other",
        "history": "HistoryMagics",
        "killbgscripts": "ScriptMagics",
        "ldir": "Other",
        "less": "KernelMagics",
        "load": "CodeMagics",
        "load_ext": "ExtensionMagics",
        "loadpy": "CodeMagics",
        "logoff": "LoggingMagics",
        "logon": "LoggingMagics",
        "logstart": "LoggingMagics",
        "logstate": "LoggingMagics",
        "logstop": "LoggingMagics",
        "ls": "Other",
        "lsmagic": "BasicMagics",
        "macro": "ExecutionMagics",
        "magic": "BasicMagics",
        "matplotlib": "PylabMagics",
        "mkdir": "Other",
        "more": "KernelMagics",
        "notebook": "BasicMagics",
        "page": "BasicMagics",
        "pastebin": "CodeMagics",
        "pdb": "ExecutionMagics",
        "pdef": "NamespaceMagics",
        "pdoc": "NamespaceMagics",
        "pfile": "NamespaceMagics",
        "pinfo": "NamespaceMagics",
        "pinfo2": "NamespaceMagics",
        "popd": "OSMagics",
        "pprint": "BasicMagics",
        "precision": "BasicMagics",
        "profile": "BasicMagics",
        "prun": "ExecutionMagics",
        "psearch": "NamespaceMagics",
        "psource": "NamespaceMagics",
        "pushd": "OSMagics",
        "pwd": "OSMagics",
        "pycat": "OSMagics",
        "pylab": "PylabMagics",
        "qtconsole": "KernelMagics",
        "quickref": "BasicMagics",
        "recall": "HistoryMagics",
        "rehashx": "OSMagics",
        "reload_ext": "ExtensionMagics",
        "ren": "Other",
        "rep": "Other",
        "rerun": "HistoryMagics",
        "reset": "NamespaceMagics",
        "reset_selective": "NamespaceMagics",
        "rmdir": "Other",
        "run": "ExecutionMagics",
        "save": "CodeMagics",
        "sc": "OSMagics",
        "set_env": "OSMagics",
        "store": "StoreMagics",
        "sx": "OSMagics",
        "system": "OSMagics",
        "tb": "ExecutionMagics",
        "time": "ExecutionMagics",
        "timeit": "ExecutionMagics",
        "unalias": "OSMagics",
        "unload_ext": "ExtensionMagics",
        "who": "NamespaceMagics",
        "who_ls": "NamespaceMagics",
        "whos": "NamespaceMagics",
        "xdel": "NamespaceMagics",
        "xmode": "BasicMagics"
       }
      },
      "text/plain": [
       "Available line magics:\n",
       "%alias  %alias_magic  %autocall  %automagic  %autosave  %bookmark  %cd  %clear  %cls  %colors  %config  %connect_info  %copy  %ddir  %debug  %dhist  %dirs  %doctest_mode  %echo  %ed  %edit  %env  %gui  %hist  %history  %killbgscripts  %ldir  %less  %load  %load_ext  %loadpy  %logoff  %logon  %logstart  %logstate  %logstop  %ls  %lsmagic  %macro  %magic  %matplotlib  %mkdir  %more  %notebook  %page  %pastebin  %pdb  %pdef  %pdoc  %pfile  %pinfo  %pinfo2  %popd  %pprint  %precision  %profile  %prun  %psearch  %psource  %pushd  %pwd  %pycat  %pylab  %qtconsole  %quickref  %recall  %rehashx  %reload_ext  %ren  %rep  %rerun  %reset  %reset_selective  %rmdir  %run  %save  %sc  %set_env  %store  %sx  %system  %tb  %time  %timeit  %unalias  %unload_ext  %who  %who_ls  %whos  %xdel  %xmode\n",
       "\n",
       "Available cell magics:\n",
       "%%!  %%HTML  %%SVG  %%bash  %%capture  %%cmd  %%debug  %%file  %%html  %%javascript  %%js  %%latex  %%perl  %%prun  %%pypy  %%python  %%python2  %%python3  %%ruby  %%script  %%sh  %%svg  %%sx  %%system  %%time  %%timeit  %%writefile\n",
       "\n",
       "Automagic is ON, % prefix IS NOT needed for line magics."
      ]
     },
     "execution_count": 19,
     "metadata": {},
     "output_type": "execute_result"
    }
   ],
   "source": [
    "%lsmagic"
   ]
  },
  {
   "cell_type": "code",
   "execution_count": 21,
   "metadata": {},
   "outputs": [
    {
     "data": {
      "text/plain": [
       "u'C:\\\\Users\\\\Shashi\\\\jupyter'"
      ]
     },
     "execution_count": 21,
     "metadata": {},
     "output_type": "execute_result"
    }
   ],
   "source": [
    "%pwd\n"
   ]
  },
  {
   "cell_type": "code",
   "execution_count": 26,
   "metadata": {},
   "outputs": [],
   "source": [
    "%matplotlib inline"
   ]
  },
  {
   "cell_type": "markdown",
   "metadata": {},
   "source": []
  },
  {
   "cell_type": "code",
   "execution_count": 28,
   "metadata": {},
   "outputs": [
    {
     "data": {
      "image/png": "[encoded data removed]",
      "text/plain": [
       "<Figure size 432x288 with 1 Axes>"
      ]
     },
     "metadata": {
      "needs_background": "light"
     },
     "output_type": "display_data"
    }
   ],
   "source": [
    "\"\"\"\n",
    "simple demo of scatter plot\n",
    "\"\"\"\n",
    "import numpy as np\n",
    "import matplotlib.pyplot as plt\n",
    "N=50\n",
    "x=np.random.rand(N)\n",
    "y=np.random.rand(N)\n",
    "colors = np.random.rand(N)\n",
    "area = np.pi *(15 * np.random.rand(N))**2  # 0 t0 15 radiuses\n",
    "plt.scatter(x,y,s=area,c=colors,alpha=0.5)\n",
    "plt.show()"
   ]
  },
  {
   "cell_type": "code",
   "execution_count": 35,
   "metadata": {},
   "outputs": [
    {
     "data": {
      "text/html": [
       "<iframe width=\"560\" height=\"315\" src=\"https://www.youtube.com/embed/HW29067qVWk\" frameborder=\"0\" allow=\"accelerometer; autoplay; encrypted-media; gyroscope; picture-in-picture\" allowfullscreen></iframe>"
      ],
      "text/plain": [
       "<IPython.core.display.HTML object>"
      ]
     },
     "metadata": {},
     "output_type": "display_data"
    }
   ],
   "source": [
    "%%HTML\n",
    "<iframe width=\"560\" height=\"315\" src=\"https://www.youtube.com/embed/HW29067qVWk\" frameborder=\"0\" allow=\"accelerometer; autoplay; encrypted-media; gyroscope; picture-in-picture\" allowfullscreen></iframe>"
   ]
  },
  {
   "cell_type": "code",
   "execution_count": 36,
   "metadata": {},
   "outputs": [
    {
     "name": "stdout",
     "output_type": "stream",
     "text": [
      "10000 loops, best of 3: 75.7 µs per loop\n"
     ]
    }
   ],
   "source": [
    "%%timeit\n",
    "sq_ev=[n*n for n in range(1000)]"
   ]
  },
  {
   "cell_type": "code",
   "execution_count": 37,
   "metadata": {},
   "outputs": [
    {
     "ename": "NameError",
     "evalue": "name 'sq_ev' is not defined",
     "output_type": "error",
     "traceback": [
      "\u001b[1;31m---------------------------------------------------------------------------\u001b[0m",
      "\u001b[1;31mNameError\u001b[0m                                 Traceback (most recent call last)",
      "\u001b[1;32m<ipython-input-37-de5aba35ee1a>\u001b[0m in \u001b[0;36m<module>\u001b[1;34m()\u001b[0m\n\u001b[1;32m----> 1\u001b[1;33m \u001b[0msq_ev\u001b[0m\u001b[1;33m\u001b[0m\u001b[0m\n\u001b[0m",
      "\u001b[1;31mNameError\u001b[0m: name 'sq_ev' is not defined"
     ]
    }
   ],
   "source": [
    "sq_ev"
   ]
  },
  {
   "cell_type": "code",
   "execution_count": 41,
   "metadata": {},
   "outputs": [
    {
     "data": {
      "text/html": [
       "<div>\n",
       "<style scoped>\n",
       "    .dataframe tbody tr th:only-of-type {\n",
       "        vertical-align: middle;\n",
       "    }\n",
       "\n",
       "    .dataframe tbody tr th {\n",
       "        vertical-align: top;\n",
       "    }\n",
       "\n",
       "    .dataframe thead th {\n",
       "        text-align: right;\n",
       "    }\n",
       "</style>\n",
       "<table border=\"1\" class=\"dataframe\">\n",
       "  <thead>\n",
       "    <tr style=\"text-align: right;\">\n",
       "      <th></th>\n",
       "      <th>0</th>\n",
       "      <th>1</th>\n",
       "      <th>2</th>\n",
       "      <th>3</th>\n",
       "      <th>4</th>\n",
       "    </tr>\n",
       "  </thead>\n",
       "  <tbody>\n",
       "    <tr>\n",
       "      <th>0</th>\n",
       "      <td>-0.063202</td>\n",
       "      <td>-0.235571</td>\n",
       "      <td>-2.071248</td>\n",
       "      <td>0.827748</td>\n",
       "      <td>1.689750</td>\n",
       "    </tr>\n",
       "    <tr>\n",
       "      <th>1</th>\n",
       "      <td>0.011893</td>\n",
       "      <td>0.038161</td>\n",
       "      <td>0.753353</td>\n",
       "      <td>0.466615</td>\n",
       "      <td>1.024793</td>\n",
       "    </tr>\n",
       "    <tr>\n",
       "      <th>2</th>\n",
       "      <td>-0.346758</td>\n",
       "      <td>-0.264983</td>\n",
       "      <td>0.285410</td>\n",
       "      <td>0.623338</td>\n",
       "      <td>-0.166380</td>\n",
       "    </tr>\n",
       "    <tr>\n",
       "      <th>3</th>\n",
       "      <td>0.257034</td>\n",
       "      <td>1.546658</td>\n",
       "      <td>-0.360225</td>\n",
       "      <td>-1.769208</td>\n",
       "      <td>0.683340</td>\n",
       "    </tr>\n",
       "    <tr>\n",
       "      <th>4</th>\n",
       "      <td>-0.069371</td>\n",
       "      <td>0.217149</td>\n",
       "      <td>0.812979</td>\n",
       "      <td>-2.410603</td>\n",
       "      <td>-1.118248</td>\n",
       "    </tr>\n",
       "    <tr>\n",
       "      <th>5</th>\n",
       "      <td>0.330714</td>\n",
       "      <td>0.198663</td>\n",
       "      <td>0.221756</td>\n",
       "      <td>-0.698002</td>\n",
       "      <td>-0.475672</td>\n",
       "    </tr>\n",
       "    <tr>\n",
       "      <th>6</th>\n",
       "      <td>-0.261397</td>\n",
       "      <td>0.228670</td>\n",
       "      <td>-1.541450</td>\n",
       "      <td>1.708033</td>\n",
       "      <td>-0.277004</td>\n",
       "    </tr>\n",
       "    <tr>\n",
       "      <th>7</th>\n",
       "      <td>-0.957892</td>\n",
       "      <td>-1.781987</td>\n",
       "      <td>0.221708</td>\n",
       "      <td>-0.572211</td>\n",
       "      <td>0.598976</td>\n",
       "    </tr>\n",
       "    <tr>\n",
       "      <th>8</th>\n",
       "      <td>-0.179757</td>\n",
       "      <td>0.500454</td>\n",
       "      <td>-0.327134</td>\n",
       "      <td>-0.165342</td>\n",
       "      <td>-0.487339</td>\n",
       "    </tr>\n",
       "    <tr>\n",
       "      <th>9</th>\n",
       "      <td>-2.268960</td>\n",
       "      <td>0.703075</td>\n",
       "      <td>-0.541073</td>\n",
       "      <td>0.894451</td>\n",
       "      <td>-0.379349</td>\n",
       "    </tr>\n",
       "  </tbody>\n",
       "</table>\n",
       "</div>"
      ],
      "text/plain": [
       "          0         1         2         3         4\n",
       "0 -0.063202 -0.235571 -2.071248  0.827748  1.689750\n",
       "1  0.011893  0.038161  0.753353  0.466615  1.024793\n",
       "2 -0.346758 -0.264983  0.285410  0.623338 -0.166380\n",
       "3  0.257034  1.546658 -0.360225 -1.769208  0.683340\n",
       "4 -0.069371  0.217149  0.812979 -2.410603 -1.118248\n",
       "5  0.330714  0.198663  0.221756 -0.698002 -0.475672\n",
       "6 -0.261397  0.228670 -1.541450  1.708033 -0.277004\n",
       "7 -0.957892 -1.781987  0.221708 -0.572211  0.598976\n",
       "8 -0.179757  0.500454 -0.327134 -0.165342 -0.487339\n",
       "9 -2.268960  0.703075 -0.541073  0.894451 -0.379349"
      ]
     },
     "execution_count": 41,
     "metadata": {},
     "output_type": "execute_result"
    }
   ],
   "source": [
    "import pandas as pd\n",
    "import numpy as np\n",
    "\n",
    "df=pd.DataFrame(np.random.randn(10,5))\n",
    "df"
   ]
  }
 ],
 "metadata": {
  "kernelspec": {
   "display_name": "Python 2",
   "language": "python",
   "name": "python2"
  },
  "language_info": {
   "codemirror_mode": {
    "name": "ipython",
    "version": 2
   },
   "file_extension": ".py",
   "mimetype": "text/x-python",
   "name": "python",
   "nbconvert_exporter": "python",
   "pygments_lexer": "ipython2",
   "version": "2.7.15"
  }
 },
 "nbformat": 4,
 "nbformat_minor": 2
}
